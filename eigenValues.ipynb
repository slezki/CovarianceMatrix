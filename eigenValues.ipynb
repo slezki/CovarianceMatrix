{
 "cells": [
  {
   "cell_type": "code",
   "execution_count": 1,
   "id": "331523d6",
   "metadata": {},
   "outputs": [],
   "source": [
    "import numpy as np\n",
    "import pandas as pd\n",
    "from matplotlib import pyplot as plt\n",
    "from tqdm import tqdm as tqdm\n",
    "import uproot3"
   ]
  },
  {
   "cell_type": "code",
   "execution_count": 2,
   "id": "cbbcbedc",
   "metadata": {},
   "outputs": [],
   "source": [
    "mini = uproot3.open(\"rootuple_2018_UpsPiPi_covMatrix_v4.root\")['rootuple;1']['CandidateTree;1']"
   ]
  },
  {
   "cell_type": "code",
   "execution_count": 3,
   "id": "5eb16cff",
   "metadata": {},
   "outputs": [
    {
     "data": {
      "text/plain": [
       "1362812"
      ]
     },
     "execution_count": 3,
     "metadata": {},
     "output_type": "execute_result"
    }
   ],
   "source": [
    "len(mini)"
   ]
  },
  {
   "cell_type": "code",
   "execution_count": 4,
   "id": "a4320ab7",
   "metadata": {},
   "outputs": [],
   "source": [
    "data_mini=mini.pandas.df()"
   ]
  },
  {
   "cell_type": "code",
   "execution_count": 5,
   "id": "cb7f0ad5",
   "metadata": {},
   "outputs": [
    {
     "data": {
      "text/html": [
       "<div>\n",
       "<style scoped>\n",
       "    .dataframe tbody tr th:only-of-type {\n",
       "        vertical-align: middle;\n",
       "    }\n",
       "\n",
       "    .dataframe tbody tr th {\n",
       "        vertical-align: top;\n",
       "    }\n",
       "\n",
       "    .dataframe thead th {\n",
       "        text-align: right;\n",
       "    }\n",
       "</style>\n",
       "<table border=\"1\" class=\"dataframe\">\n",
       "  <thead>\n",
       "    <tr style=\"text-align: right;\">\n",
       "      <th></th>\n",
       "      <th>run</th>\n",
       "      <th>event</th>\n",
       "      <th>luminosityBlock</th>\n",
       "      <th>nCandPerEvent</th>\n",
       "      <th>numPrimaryVertices</th>\n",
       "      <th>trigger</th>\n",
       "      <th>candidate_p4.fX</th>\n",
       "      <th>candidate_p4.fY</th>\n",
       "      <th>candidate_p4.fZ</th>\n",
       "      <th>candidate_p4.fE</th>\n",
       "      <th>...</th>\n",
       "      <th>mu2_SLamLam</th>\n",
       "      <th>mu2_SLamPhi</th>\n",
       "      <th>mu2_SLamDxy</th>\n",
       "      <th>mu2_SLamDsz</th>\n",
       "      <th>mu2_SPhiPhi</th>\n",
       "      <th>mu2_SPhiDxy</th>\n",
       "      <th>mu2_SPhiDsz</th>\n",
       "      <th>mu2_SDxyDxy</th>\n",
       "      <th>mu2_SDxyDsz</th>\n",
       "      <th>mu2_SDszDsz</th>\n",
       "    </tr>\n",
       "    <tr>\n",
       "      <th>entry</th>\n",
       "      <th></th>\n",
       "      <th></th>\n",
       "      <th></th>\n",
       "      <th></th>\n",
       "      <th></th>\n",
       "      <th></th>\n",
       "      <th></th>\n",
       "      <th></th>\n",
       "      <th></th>\n",
       "      <th></th>\n",
       "      <th></th>\n",
       "      <th></th>\n",
       "      <th></th>\n",
       "      <th></th>\n",
       "      <th></th>\n",
       "      <th></th>\n",
       "      <th></th>\n",
       "      <th></th>\n",
       "      <th></th>\n",
       "      <th></th>\n",
       "      <th></th>\n",
       "    </tr>\n",
       "  </thead>\n",
       "  <tbody>\n",
       "    <tr>\n",
       "      <th>0</th>\n",
       "      <td>321988</td>\n",
       "      <td>913479513</td>\n",
       "      <td>521</td>\n",
       "      <td>1</td>\n",
       "      <td>30</td>\n",
       "      <td>128</td>\n",
       "      <td>11.037201</td>\n",
       "      <td>10.483199</td>\n",
       "      <td>-11.264761</td>\n",
       "      <td>21.446402</td>\n",
       "      <td>...</td>\n",
       "      <td>6.008717e-08</td>\n",
       "      <td>2.467943e-09</td>\n",
       "      <td>-2.618969e-08</td>\n",
       "      <td>-5.775142e-07</td>\n",
       "      <td>1.371015e-07</td>\n",
       "      <td>-8.095049e-07</td>\n",
       "      <td>-3.390080e-08</td>\n",
       "      <td>0.000006</td>\n",
       "      <td>3.670992e-07</td>\n",
       "      <td>0.000007</td>\n",
       "    </tr>\n",
       "    <tr>\n",
       "      <th>1</th>\n",
       "      <td>321988</td>\n",
       "      <td>913857365</td>\n",
       "      <td>521</td>\n",
       "      <td>3</td>\n",
       "      <td>30</td>\n",
       "      <td>128</td>\n",
       "      <td>-13.272601</td>\n",
       "      <td>5.394998</td>\n",
       "      <td>0.682575</td>\n",
       "      <td>17.518179</td>\n",
       "      <td>...</td>\n",
       "      <td>1.227854e-07</td>\n",
       "      <td>-4.760227e-10</td>\n",
       "      <td>6.406638e-09</td>\n",
       "      <td>-8.471935e-07</td>\n",
       "      <td>5.484878e-08</td>\n",
       "      <td>-3.137560e-07</td>\n",
       "      <td>2.970072e-09</td>\n",
       "      <td>0.000002</td>\n",
       "      <td>-4.403954e-08</td>\n",
       "      <td>0.000007</td>\n",
       "    </tr>\n",
       "    <tr>\n",
       "      <th>2</th>\n",
       "      <td>321988</td>\n",
       "      <td>913857365</td>\n",
       "      <td>521</td>\n",
       "      <td>3</td>\n",
       "      <td>30</td>\n",
       "      <td>128</td>\n",
       "      <td>-13.297990</td>\n",
       "      <td>5.576695</td>\n",
       "      <td>0.615847</td>\n",
       "      <td>17.577517</td>\n",
       "      <td>...</td>\n",
       "      <td>1.227854e-07</td>\n",
       "      <td>-4.760227e-10</td>\n",
       "      <td>6.406638e-09</td>\n",
       "      <td>-8.471935e-07</td>\n",
       "      <td>5.484878e-08</td>\n",
       "      <td>-3.137560e-07</td>\n",
       "      <td>2.970072e-09</td>\n",
       "      <td>0.000002</td>\n",
       "      <td>-4.403954e-08</td>\n",
       "      <td>0.000007</td>\n",
       "    </tr>\n",
       "    <tr>\n",
       "      <th>3</th>\n",
       "      <td>321988</td>\n",
       "      <td>913857365</td>\n",
       "      <td>521</td>\n",
       "      <td>3</td>\n",
       "      <td>30</td>\n",
       "      <td>128</td>\n",
       "      <td>-13.321217</td>\n",
       "      <td>5.312821</td>\n",
       "      <td>0.318810</td>\n",
       "      <td>17.540969</td>\n",
       "      <td>...</td>\n",
       "      <td>1.227854e-07</td>\n",
       "      <td>-4.760227e-10</td>\n",
       "      <td>6.406638e-09</td>\n",
       "      <td>-8.471935e-07</td>\n",
       "      <td>5.484878e-08</td>\n",
       "      <td>-3.137560e-07</td>\n",
       "      <td>2.970072e-09</td>\n",
       "      <td>0.000002</td>\n",
       "      <td>-4.403954e-08</td>\n",
       "      <td>0.000007</td>\n",
       "    </tr>\n",
       "    <tr>\n",
       "      <th>4</th>\n",
       "      <td>321988</td>\n",
       "      <td>914943087</td>\n",
       "      <td>521</td>\n",
       "      <td>1</td>\n",
       "      <td>33</td>\n",
       "      <td>128</td>\n",
       "      <td>-5.148066</td>\n",
       "      <td>21.437214</td>\n",
       "      <td>4.166191</td>\n",
       "      <td>24.565197</td>\n",
       "      <td>...</td>\n",
       "      <td>7.978687e-08</td>\n",
       "      <td>9.098979e-10</td>\n",
       "      <td>-5.849043e-09</td>\n",
       "      <td>-7.509793e-07</td>\n",
       "      <td>4.577199e-08</td>\n",
       "      <td>-2.677299e-07</td>\n",
       "      <td>-9.283950e-09</td>\n",
       "      <td>0.000002</td>\n",
       "      <td>5.596505e-08</td>\n",
       "      <td>0.000008</td>\n",
       "    </tr>\n",
       "  </tbody>\n",
       "</table>\n",
       "<p>5 rows × 169 columns</p>\n",
       "</div>"
      ],
      "text/plain": [
       "          run      event  luminosityBlock  nCandPerEvent  numPrimaryVertices  \\\n",
       "entry                                                                          \n",
       "0      321988  913479513              521              1                  30   \n",
       "1      321988  913857365              521              3                  30   \n",
       "2      321988  913857365              521              3                  30   \n",
       "3      321988  913857365              521              3                  30   \n",
       "4      321988  914943087              521              1                  33   \n",
       "\n",
       "       trigger  candidate_p4.fX  candidate_p4.fY  candidate_p4.fZ  \\\n",
       "entry                                                               \n",
       "0          128        11.037201        10.483199       -11.264761   \n",
       "1          128       -13.272601         5.394998         0.682575   \n",
       "2          128       -13.297990         5.576695         0.615847   \n",
       "3          128       -13.321217         5.312821         0.318810   \n",
       "4          128        -5.148066        21.437214         4.166191   \n",
       "\n",
       "       candidate_p4.fE  ...   mu2_SLamLam   mu2_SLamPhi   mu2_SLamDxy  \\\n",
       "entry                   ...                                             \n",
       "0            21.446402  ...  6.008717e-08  2.467943e-09 -2.618969e-08   \n",
       "1            17.518179  ...  1.227854e-07 -4.760227e-10  6.406638e-09   \n",
       "2            17.577517  ...  1.227854e-07 -4.760227e-10  6.406638e-09   \n",
       "3            17.540969  ...  1.227854e-07 -4.760227e-10  6.406638e-09   \n",
       "4            24.565197  ...  7.978687e-08  9.098979e-10 -5.849043e-09   \n",
       "\n",
       "        mu2_SLamDsz   mu2_SPhiPhi   mu2_SPhiDxy   mu2_SPhiDsz  mu2_SDxyDxy  \\\n",
       "entry                                                                        \n",
       "0     -5.775142e-07  1.371015e-07 -8.095049e-07 -3.390080e-08     0.000006   \n",
       "1     -8.471935e-07  5.484878e-08 -3.137560e-07  2.970072e-09     0.000002   \n",
       "2     -8.471935e-07  5.484878e-08 -3.137560e-07  2.970072e-09     0.000002   \n",
       "3     -8.471935e-07  5.484878e-08 -3.137560e-07  2.970072e-09     0.000002   \n",
       "4     -7.509793e-07  4.577199e-08 -2.677299e-07 -9.283950e-09     0.000002   \n",
       "\n",
       "        mu2_SDxyDsz  mu2_SDszDsz  \n",
       "entry                             \n",
       "0      3.670992e-07     0.000007  \n",
       "1     -4.403954e-08     0.000007  \n",
       "2     -4.403954e-08     0.000007  \n",
       "3     -4.403954e-08     0.000007  \n",
       "4      5.596505e-08     0.000008  \n",
       "\n",
       "[5 rows x 169 columns]"
      ]
     },
     "execution_count": 5,
     "metadata": {},
     "output_type": "execute_result"
    }
   ],
   "source": [
    "data_mini.head()"
   ]
  },
  {
   "cell_type": "code",
   "execution_count": 6,
   "id": "f72158a6",
   "metadata": {},
   "outputs": [],
   "source": [
    "data_mini_1 = data_mini[(data_mini[\"candidate_vProb\"]>0.05)]\n",
    "data_mini_2 = data_mini[(data_mini[\"candidate_vProb\"]>0.05) & (data_mini[\"candidate_vMass\"]>10.01) & (data_mini[\"candidate_vMass\"]<10.03)]"
   ]
  },
  {
   "cell_type": "code",
   "execution_count": 7,
   "id": "34a7628c",
   "metadata": {},
   "outputs": [],
   "source": [
    "covMatrixLab_trk1=[\"track1_SQopQop\",\"track1_SQopLam\",\"track1_SQopPhi\",\"track1_SQopDxy\",\"track1_SQopDsz\",\"track1_SLamLam\",\"track1_SLamPhi\",\"track1_SLamDxy\",\"track1_SLamDsz\",\"track1_SPhiPhi\",\"track1_SPhiDxy\",\"track1_SPhiDsz\",\"track1_SDxyDxy\",\"track1_SDxyDsz\",\"track1_SDszDsz\"]\n",
    "covMatrixLab_trk2=[\"track2_SQopQop\",\"track2_SQopLam\",\"track2_SQopPhi\",\"track2_SQopDxy\",\"track2_SQopDsz\",\"track2_SLamLam\",\"track2_SLamPhi\",\"track2_SLamDxy\",\"track2_SLamDsz\",\"track2_SPhiPhi\",\"track2_SPhiDxy\",\"track2_SPhiDsz\",\"track2_SDxyDxy\",\"track2_SDxyDsz\",\"track2_SDszDsz\"]"
   ]
  },
  {
   "cell_type": "code",
   "execution_count": 8,
   "id": "69c7f0f8",
   "metadata": {},
   "outputs": [],
   "source": [
    "def symmetricize(a):\n",
    "    s = int((np.sqrt(a.size*8+1)-1)*0.5)\n",
    "    m = np.zeros((s,s))\n",
    "    for i in range(s):\n",
    "        F = s + np.sum(np.arange(s-1,s-i-1,-1))\n",
    "        I = F - s + i\n",
    "        m[i,i:] = a[I:F]\n",
    "    for i in range(s):\n",
    "        m[i:,i] = m[i,i:]\n",
    "    return m"
   ]
  },
  {
   "cell_type": "code",
   "execution_count": 9,
   "id": "6f77029a",
   "metadata": {},
   "outputs": [
    {
     "name": "stderr",
     "output_type": "stream",
     "text": [
      "100%|███████████████████████████████████████████████████████████████████| 1362812/1362812 [00:50<00:00, 27101.06it/s]\n",
      "100%|███████████████████████████████████████████████████████████████████| 1362812/1362812 [00:24<00:00, 55379.12it/s]\n",
      "100%|███████████████████████████████████████████████████████████████████| 1362812/1362812 [00:49<00:00, 27289.06it/s]\n",
      "100%|███████████████████████████████████████████████████████████████████| 1362812/1362812 [00:23<00:00, 56869.77it/s]\n"
     ]
    }
   ],
   "source": [
    "C_mini_vec_trk1 = data_mini[covMatrixLab_trk1].values[:]\n",
    "M_mini_trk1 = np.array([symmetricize(f) for f in tqdm(C_mini_vec_trk1)])\n",
    "V_mini_trk1 = np.array([np.linalg.eigvals(M) for M in tqdm(M_mini_trk1)])\n",
    "\n",
    "C_mini_vec_trk2 = data_mini[covMatrixLab_trk2].values[:]\n",
    "M_mini_trk2 = np.array([symmetricize(f) for f in tqdm(C_mini_vec_trk2)])\n",
    "V_mini_trk2 = np.array([np.linalg.eigvals(M) for M in tqdm(M_mini_trk2)])"
   ]
  },
  {
   "cell_type": "code",
   "execution_count": 10,
   "id": "93b0af48",
   "metadata": {},
   "outputs": [
    {
     "name": "stderr",
     "output_type": "stream",
     "text": [
      "100%|███████████████████████████████████████████████████████████████████| 1010999/1010999 [00:36<00:00, 28083.26it/s]\n",
      "100%|███████████████████████████████████████████████████████████████████| 1010999/1010999 [00:18<00:00, 55197.45it/s]\n",
      "100%|███████████████████████████████████████████████████████████████████| 1010999/1010999 [00:38<00:00, 26071.54it/s]\n",
      "100%|███████████████████████████████████████████████████████████████████| 1010999/1010999 [00:18<00:00, 54970.79it/s]\n"
     ]
    }
   ],
   "source": [
    "C_mini_vec_trk1_1 = data_mini_1[covMatrixLab_trk1].values[:]\n",
    "M_mini_trk1_1 = np.array([symmetricize(f) for f in tqdm(C_mini_vec_trk1_1)])\n",
    "V_mini_trk1_1 = np.array([np.linalg.eigvals(M) for M in tqdm(M_mini_trk1_1)])\n",
    "\n",
    "C_mini_vec_trk2_1 = data_mini_1[covMatrixLab_trk2].values[:]\n",
    "M_mini_trk2_1 = np.array([symmetricize(f) for f in tqdm(C_mini_vec_trk2_1)])\n",
    "V_mini_trk2_1 = np.array([np.linalg.eigvals(M) for M in tqdm(M_mini_trk2_1)])"
   ]
  },
  {
   "cell_type": "code",
   "execution_count": 11,
   "id": "fde471e1",
   "metadata": {},
   "outputs": [
    {
     "name": "stderr",
     "output_type": "stream",
     "text": [
      "100%|█████████████████████████████████████████████████████████████████████| 165990/165990 [00:06<00:00, 26421.59it/s]\n",
      "100%|█████████████████████████████████████████████████████████████████████| 165990/165990 [00:03<00:00, 53351.31it/s]\n",
      "100%|█████████████████████████████████████████████████████████████████████| 165990/165990 [00:06<00:00, 27435.53it/s]\n",
      "100%|█████████████████████████████████████████████████████████████████████| 165990/165990 [00:02<00:00, 55461.10it/s]\n"
     ]
    }
   ],
   "source": [
    "C_mini_vec_trk1_2 = data_mini_2[covMatrixLab_trk1].values[:]\n",
    "M_mini_trk1_2 = np.array([symmetricize(f) for f in tqdm(C_mini_vec_trk1_2)])\n",
    "V_mini_trk1_2 = np.array([np.linalg.eigvals(M) for M in tqdm(M_mini_trk1_2)])\n",
    "\n",
    "C_mini_vec_trk2_2 = data_mini_2[covMatrixLab_trk2].values[:]\n",
    "M_mini_trk2_2 = np.array([symmetricize(f) for f in tqdm(C_mini_vec_trk2_2)])\n",
    "V_mini_trk2_2 = np.array([np.linalg.eigvals(M) for M in tqdm(M_mini_trk2_2)])"
   ]
  },
  {
   "cell_type": "markdown",
   "id": "165eda83",
   "metadata": {},
   "source": [
    "bad_index =np.where((np.min(V_mini,axis=1)<0))[0]\n",
    "float(len(bad_index))/float(len(V_mini))"
   ]
  },
  {
   "cell_type": "code",
   "execution_count": 36,
   "id": "bcf66896",
   "metadata": {
    "scrolled": false
   },
   "outputs": [
    {
     "data": {
      "text/plain": [
       "Text(0, 0.5, 'Num. of Cand.')"
      ]
     },
     "execution_count": 36,
     "metadata": {},
     "output_type": "execute_result"
    },
    {
     "data": {
      "image/png": "[encoded data removed]",
      "text/plain": [
       "<Figure size 720x504 with 1 Axes>"
      ]
     },
     "metadata": {
      "needs_background": "light"
     },
     "output_type": "display_data"
    }
   ],
   "source": [
    "plt.figure(figsize=(10,7))\n",
    "plt.hist((V_mini_trk1.flatten()),range=(-0.005,0.005),bins=100,log=True,label=\"All Candidates\");\n",
    "plt.hist((V_mini_trk1_1.flatten()),range=(-0.005,0.005),bins=100,log=True,label=\"$P_{vtx}[Y(1S)\\pi^{+}\\pi^{-}] > 5%$\");\n",
    "plt.hist((V_mini_trk1_2.flatten()),range=(-0.005,0.005),bins=100,log=True,label=\"$&\\ 10.01 < M[Y(2S)] < 10.03$\");\n",
    "plt.title(\"Eigenvector components (Track1) in miniAOD\")\n",
    "legend1 = plt.legend(loc=2)\n",
    "#legend2 = plt.legend([\"miniAOD\"],loc=2)\n",
    "#legend2.legendHandles[0].set_color('red')\n",
    "plt.gca().add_artist(legend1)\n",
    "#plt.gca().add_artist(legend2)\n",
    "plt.xlabel('Eigen Values')\n",
    "plt.ylabel('Num. of Cand.')"
   ]
  },
  {
   "cell_type": "code",
   "execution_count": 37,
   "id": "d7341aac",
   "metadata": {
    "scrolled": false
   },
   "outputs": [
    {
     "data": {
      "text/plain": [
       "Text(0, 0.5, 'Num. of Cand.')"
      ]
     },
     "execution_count": 37,
     "metadata": {},
     "output_type": "execute_result"
    },
    {
     "data": {
      "image/png": "[encoded data removed]",
      "text/plain": [
       "<Figure size 720x504 with 1 Axes>"
      ]
     },
     "metadata": {
      "needs_background": "light"
     },
     "output_type": "display_data"
    }
   ],
   "source": [
    "plt.figure(figsize=(10,7))\n",
    "plt.hist((V_mini_trk2.flatten()),range=(-0.005,0.005),bins=100,log=True,label=\"All Candidates\");\n",
    "plt.hist((V_mini_trk2_1.flatten()),range=(-0.005,0.005),bins=100,log=True,label=\"$P_{vtx}[Y(1S)\\pi^{+}\\pi^{-}] > 5%$\");\n",
    "plt.hist((V_mini_trk2_2.flatten()),range=(-0.005,0.005),bins=100,log=True,label=\"$&\\ 10.01 < M[Y(2S)] < 10.03$\");\n",
    "plt.title(\"Eigenvector components (Track2) in miniAOD\")\n",
    "legend1 = plt.legend(loc=2)\n",
    "#legend2 = plt.legend([\"miniAOD\"],loc=2)\n",
    "#legend2.legendHandles[0].set_color('red')\n",
    "plt.gca().add_artist(legend1)\n",
    "#plt.gca().add_artist(legend2)\n",
    "plt.xlabel('Eigen Values')\n",
    "plt.ylabel('Num. of Cand.')"
   ]
  },
  {
   "cell_type": "code",
   "execution_count": 39,
   "id": "5d76bcb6",
   "metadata": {},
   "outputs": [
    {
     "data": {
      "text/plain": [
       "Text(0, 0.5, 'Num. of Cand.')"
      ]
     },
     "execution_count": 39,
     "metadata": {},
     "output_type": "execute_result"
    },
    {
     "data": {
      "image/png": "[encoded data removed]",
      "text/plain": [
       "<Figure size 720x504 with 1 Axes>"
      ]
     },
     "metadata": {
      "needs_background": "light"
     },
     "output_type": "display_data"
    }
   ],
   "source": [
    "plt.figure(figsize=(10,7))\n",
    "plt.hist(np.min(V_mini_trk1,axis=1),range=(-0.005,0.005),bins=100,log=True,label=\"All Candidates\");\n",
    "plt.hist(np.min(V_mini_trk1_1,axis=1),range=(-0.005,0.005),bins=100,log=True,label=\"$P_{vtx}[Y(1S)\\pi^{+}\\pi^{-}] > 5%$\");\n",
    "plt.hist(np.min(V_mini_trk1_2,axis=1),range=(-0.005,0.005),bins=100,log=True,label=\"$&\\ 10.01 < M[Y(2S)] < 10.03$\");\n",
    "plt.title(\"Eigenvector minimum component (Track1) in miniAOD\")\n",
    "legend1 = plt.legend(loc=2)\n",
    "#legend2 = plt.legend([\"miniAOD\"],loc=2)\n",
    "#legend2.legendHandles[0].set_color('red')\n",
    "plt.gca().add_artist(legend1)\n",
    "#plt.gca().add_artist(legend2)\n",
    "plt.xlabel('Eigen Values')\n",
    "plt.ylabel('Num. of Cand.')"
   ]
  },
  {
   "cell_type": "code",
   "execution_count": 38,
   "id": "3b751d36",
   "metadata": {},
   "outputs": [
    {
     "data": {
      "text/plain": [
       "Text(0, 0.5, 'Num. of Cand.')"
      ]
     },
     "execution_count": 38,
     "metadata": {},
     "output_type": "execute_result"
    },
    {
     "data": {
      "image/png": "[encoded data removed]",
      "text/plain": [
       "<Figure size 720x504 with 1 Axes>"
      ]
     },
     "metadata": {
      "needs_background": "light"
     },
     "output_type": "display_data"
    }
   ],
   "source": [
    "plt.figure(figsize=(10,7))\n",
    "plt.hist(np.min(V_mini_trk2,axis=1),range=(-0.005,0.005),bins=100,log=True,label=\"All Candidates\");\n",
    "plt.hist(np.min(V_mini_trk2_1,axis=1),range=(-0.005,0.005),bins=100,log=True,label=\"$P_{vtx}[Y(1S)\\pi^{+}\\pi^{-}] > 5%$\");\n",
    "plt.hist(np.min(V_mini_trk2_2,axis=1),range=(-0.005,0.005),bins=100,log=True,label=\"$&\\ 10.01 < M[Y(2S)] < 10.03$\");\n",
    "plt.title(\"Eigenvector minimum component (Track2) in miniAOD\")\n",
    "legend1 = plt.legend(loc=2)\n",
    "#legend2 = plt.legend([\"miniAOD\"],loc=2)\n",
    "#legend2.legendHandles[0].set_color('red')\n",
    "plt.gca().add_artist(legend1)\n",
    "#plt.gca().add_artist(legend2)\n",
    "plt.xlabel('Eigen Values')\n",
    "plt.ylabel('Num. of Cand.')"
   ]
  },
  {
   "cell_type": "code",
   "execution_count": null,
   "id": "949aa3e5",
   "metadata": {},
   "outputs": [],
   "source": []
  }
 ],
 "metadata": {
  "kernelspec": {
   "display_name": "Python 3 (ipykernel)",
   "language": "python",
   "name": "python3"
  },
  "language_info": {
   "codemirror_mode": {
    "name": "ipython",
    "version": 3
   },
   "file_extension": ".py",
   "mimetype": "text/x-python",
   "name": "python",
   "nbconvert_exporter": "python",
   "pygments_lexer": "ipython3",
   "version": "3.9.12"
  }
 },
 "nbformat": 4,
 "nbformat_minor": 5
}
